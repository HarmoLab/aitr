{
 "cells": [
  {
   "cell_type": "markdown",
   "metadata": {},
   "source": [
    "# ex01\n",
    "\n",
    "上部にある「ドライブにコピー」で自分のドライブにコピーしてから実行してください。"
   ]
  },
  {
   "cell_type": "markdown",
   "metadata": {},
   "source": [
    "## Sample01"
   ]
  },
  {
   "cell_type": "code",
   "execution_count": null,
   "metadata": {},
   "outputs": [],
   "source": [
    "# インストールしたパッケージをコード内で使用できるようにインポートします\n",
    "import torch\n",
    "\n",
    "# pytorchはディープラーニングに関する数値計算のためのライブラリとなっています．\n",
    "# まずは初期化されていない行列(配列として表現される)を生成してみましょう\n",
    "# この数値が格納された配列のことをpytorchではtensorと呼びます\n",
    "\n",
    "x = torch.empty(5, 3)\n",
    "print(x)\n",
    "\n",
    "# ほかにも，0で初期化したものや，0-1で初期化したものなども作成できます\n",
    "\n",
    "x = torch.rand(5, 3)\n",
    "print(x)\n",
    "\n",
    "x = torch.zeros(5, 3)\n",
    "print(x)\n",
    "\n",
    "# pythonのリストから直接生成することもできます\n",
    "x = torch.tensor([3, 2])\n",
    "print(x)"
   ]
  },
  {
   "cell_type": "code",
   "execution_count": null,
   "metadata": {},
   "outputs": [],
   "source": [
    "# ------------------------------------------------------------------------\n",
    "# 演習1 ：7*7の0埋めされたtensorを生成してください\n",
    "\n",
    "# ここにコードを記述．生成したtensorをx1に代入する\n",
    "\n",
    "\n",
    "# 生成したtensorの標準出力への表示\n",
    "print(\"演習1の解答\\n\", x1)\n",
    "# ------------------------------------------------------------------------\n"
   ]
  },
  {
   "cell_type": "code",
   "execution_count": null,
   "metadata": {},
   "outputs": [],
   "source": [
    "# ------------------------------------------------------------------------\n",
    "# 演習2 ：1*28*28の1で初期化されたtensorを生成してください\n",
    "# （torch.ones というメソッドがあるので，これを利用してください）\n",
    "\n",
    "# ここにコードを記述．生成したtensorをx2に代入する\n",
    "\n",
    "\n",
    "# 生成したtensorの標準出力への表示 & shapeの出力\n",
    "print(\"演習2の解答1\\n\", x2)\n",
    "print(x2.shape)\n",
    "# ------------------------------------------------------------------------\n"
   ]
  },
  {
   "cell_type": "markdown",
   "metadata": {},
   "source": [
    "## Sample02"
   ]
  },
  {
   "cell_type": "code",
   "execution_count": null,
   "metadata": {},
   "outputs": [],
   "source": [
    "import torch\n",
    "\n",
    "from PIL import Image\n",
    "import torchvision\n",
    "\n",
    "# tensor同士は四則演算可能です\n",
    "# 各要素ごとに計算されます\n",
    "\n",
    "x = torch.rand(3, 2)\n",
    "y = torch.rand(3, 2)\n",
    "print(x)\n",
    "print(y)\n",
    "print(\"加算\", x + y)\n",
    "print(\"原産\", x - y)\n",
    "print(\"積\", x * y)\n",
    "print(\"除算\", x / y)\n",
    "\n",
    "# いずれかをtensorではないただの数字にした場合，ブロードキャストされます\n",
    "print(torch.zeros(2, 5) + 3)\n",
    "\n",
    "\n",
    "# これらの演算子ではサイズが異なる場合は計算できません\n",
    "# x = torch.rand(3, 2)\n",
    "# y = torch.rand(5, 5)\n",
    "# print(x + y)  # エラーで実行できない\n",
    "\n",
    "# 和の計算や最大値の計算など集計用のメソッドも実装されています\n",
    "z = torch.ones(2, 3)\n",
    "print(z.sum())\n",
    "\n",
    "\n",
    "x = torch.rand(10, 10)\n",
    "# 要素へのアクセスは配列のようにできます\n",
    "print(x[0, 1])\n",
    "\n",
    "# また，0列目をすべて取り出す，のような操作も可能です\n",
    "print(x[:, 0])\n",
    "\n",
    "# 長方形状にアクセスすることも可能です\n",
    "print(x[2:5, 3:8])\n",
    "print(x[2:5, 3:8].size())  # サイズはこのように確認できます\n",
    "\n",
    "# tensorの形を変形する操作は以下のように行います\n",
    "# 軸の順番の入れ替えはtransposeで行います\n",
    "x = torch.rand(3, 2)\n",
    "print(x)\n",
    "print(x.transpose(0, 1))  # 0軸目と1軸目を入れ替えます\n"
   ]
  },
  {
   "cell_type": "markdown",
   "metadata": {},
   "source": [
    "### car.jpg\n",
    "<img src=\"https://raw.githubusercontent.com/HarmoLab/aitr/main/exercise_01/car.jpg\" width=450>\n",
    "\n",
    "### cleaner.jpg\n",
    "<img src=\"https://raw.githubusercontent.com/HarmoLab/aitr/main/exercise_01/cleaner.jpg\" width=450>"
   ]
  },
  {
   "cell_type": "code",
   "execution_count": null,
   "metadata": {},
   "outputs": [],
   "source": [
    "# 1.次のimg_tensorの縦と横を変えてください\n",
    "# 読み込んだ画像は(3,2268,4032)のtensorに変換されています\n",
    "from PIL import Image\n",
    "import torchvision\n",
    "import IPython\n",
    "img = Image.open(\"car.jpg\")\n",
    "img_tensor = torchvision.transforms.functional.to_tensor(img)\n",
    "\n",
    "# ここにコードを記述．処理後のtensorはimg_tensorに代入する\n",
    "\n",
    "\n",
    "img_changed = torchvision.transforms.functional.to_pil_image(img_tensor)\n",
    "img_changed.save('car_changed.jpg')\n",
    "IPython.display.Image(\"car_changed.jpg\", width = 400)\n"
   ]
  },
  {
   "cell_type": "code",
   "execution_count": null,
   "metadata": {},
   "outputs": [],
   "source": [
    "# 2.img_tensorの縦301から1500，横801番目から1200の1200*400の\n",
    "# 長方形領域を値を0に変更して保存してください\n",
    "img = Image.open(\"car.jpg\")\n",
    "img_tensor = torchvision.transforms.functional.to_tensor(img)\n",
    "\n",
    "# ここにコードを記述\n",
    "\n",
    "\n",
    "img_changed = torchvision.transforms.functional.to_pil_image(img_tensor)\n",
    "img_changed.save('car_mask.jpg')\n",
    "IPython.display.Image(\"car_mask.jpg\", width = 400)\n"
   ]
  },
  {
   "cell_type": "code",
   "execution_count": null,
   "metadata": {},
   "outputs": [],
   "source": [
    "# 3.２つのtensorをそれぞれ0.5倍した上で足してください\n",
    "img = Image.open(\"car.jpg\")\n",
    "img_tensor = torchvision.transforms.functional.to_tensor(img)\n",
    "img2 = Image.open(\"cleaner.jpg\")\n",
    "img_tensor2 = torchvision.transforms.functional.to_tensor(img2)\n",
    "\n",
    "# ここにコードを記述．足し合わせたtensorはimg_outputに代入\n",
    "\n",
    "\n",
    "img_mixup = torchvision.transforms.functional.to_pil_image(img_output)\n",
    "img_mixup.save('mixup.jpg')\n",
    "IPython.display.Image(\"mixup.jpg\", width = 400)\n"
   ]
  }
 ],
 "metadata": {
  "language_info": {
   "name": "python"
  },
  "orig_nbformat": 4
 },
 "nbformat": 4,
 "nbformat_minor": 2
}
