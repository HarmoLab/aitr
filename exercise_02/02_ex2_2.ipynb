{
 "cells": [
  {
   "cell_type": "markdown",
   "metadata": {
    "id": "yUIEb1L3DpAX"
   },
   "source": [
    "# **第2回 演習Ⅱ 課題2, 3**\n",
    "\n",
    "課題2：コードを実行してください。\n",
    "\n",
    "課題3：他の画像を使って推論を行ってください。\n",
    "\n",
    "※上部にある「ドライブにコピー」で自分のドライブにコピーしてから編集・実行してください。"
   ]
  },
  {
   "cell_type": "code",
   "execution_count": null,
   "metadata": {
    "id": "HbbwohRv8vkx"
   },
   "outputs": [],
   "source": [
    "# ライブラリのインポート\n",
    "import os\n",
    "import random\n",
    "import numpy as np\n",
    "import torchvision\n",
    "import torch\n",
    "import torch.nn as nn\n",
    "import torch.nn.functional as F\n",
    "from PIL import Image\n",
    "from torchvision import datasets, transforms\n",
    "import matplotlib.pyplot as plt"
   ]
  },
  {
   "cell_type": "code",
   "execution_count": null,
   "metadata": {
    "id": "1OBaBtPGNWPX"
   },
   "outputs": [],
   "source": [
    "# Google DriveをマウントしてDrive内のファイルにアクセスできるようにする\n",
    "from google.colab import drive\n",
    "drive.mount('/content/drive')"
   ]
  },
  {
   "cell_type": "code",
   "execution_count": null,
   "metadata": {
    "id": "5qXw2m-I8vky"
   },
   "outputs": [],
   "source": [
    "# シード値の固定\n",
    "# シードを固定すると毎回同じ結果が得られる（再現性の確保）\n",
    "random.seed(0)\n",
    "np.random.seed(0)\n",
    "torch.manual_seed(0)"
   ]
  },
  {
   "cell_type": "code",
   "execution_count": null,
   "metadata": {
    "id": "msK5WhqG8vky"
   },
   "outputs": [],
   "source": [
    "# データの前処理の方法を定義\n",
    "transform = transforms.Compose([\n",
    "\ttransforms.ToTensor() # データをテンソルに変換\n",
    "])"
   ]
  },
  {
   "cell_type": "code",
   "execution_count": null,
   "metadata": {
    "id": "P0P_k3AAMIxZ"
   },
   "outputs": [],
   "source": [
    "# 畳み込みニューラルネットワークの定義\n",
    "class CNN(nn.Module):\n",
    "  def __init__(self):\n",
    "    '''\n",
    "    畳み込みニューラルネットワークの構造を定義\n",
    "    '''\n",
    "    super(CNN, self).__init__()\n",
    "\n",
    "    # 畳み込み層1\n",
    "    self.conv1 = nn.Conv2d(1, 8, 3)  # 28x28x1 -> 26x26x8\n",
    "    # 畳み込み層2\n",
    "    self.conv2 = nn.Conv2d(8, 16, 3) # 26x26x8 -> 24x24x16\n",
    "    # 最大プーリング層\n",
    "    self.pool = nn.MaxPool2d(2, 2)   # 24x24x16 -> 12x12x16\n",
    "    # 全結合層\n",
    "    self.fc1 = nn.Linear(12 * 12 * 16, 128) # 12x12x16 -> 128\n",
    "    self.fc2 = nn.Linear(128, 64)           # 128 -> 64\n",
    "    self.fc3 = nn.Linear(64, 10)            # 64 -> 10\n",
    "\n",
    "  def forward(self, x):\n",
    "    '''\n",
    "    入力から出力までの流れを定義\n",
    "    '''\n",
    "    x = F.relu(self.conv1(x))    # 畳み込み層1の計算 + 活性化関数ReLUの適用\n",
    "    x = F.relu(self.conv2(x))    # 畳み込み層2の計算 + 活性化関数ReLUの適用\n",
    "    x = self.pool(x)             # 最大プーリング\n",
    "\n",
    "    x = x.view(-1, 12 * 12 * 16) # 特徴マップを1次元のベクトルに変換\n",
    "\n",
    "    x = F.relu(self.fc1(x))      # 全結合層1の計算 + 活性化関数ReLUの適用\n",
    "    x = F.relu(self.fc2(x))      # 全結合層2の計算 + 活性化関数ReLUの適用\n",
    "    x = self.fc3(x)              # 出力層の計算\n",
    "    return x"
   ]
  },
  {
   "cell_type": "code",
   "execution_count": null,
   "metadata": {
    "id": "4r3Y-_ybIYAY"
   },
   "outputs": [],
   "source": [
    "# 学習済みのモデルの読み込み\n",
    "model = CNN()\n",
    "model_path = \"/content/drive/MyDrive/jts_ai_seminar_2/model/cnn.pt\"\n",
    "model.load_state_dict(torch.load(model_path, weights_only=True))\n",
    "model.eval() # モデルを評価モードにする\n",
    "\n",
    "# 推論する画像の読み込み\n",
    "img_path = \"/content/drive/MyDrive/jts_ai_seminar_2/images/image_A.jpg\"\n",
    "img = Image.open(img_path)\n",
    "\n",
    "# 画像をテンソルに変換\n",
    "img_tensor = transform(img)\n",
    "img_tensor = img_tensor.unsqueeze(0)\n",
    "\n",
    "# モデルに画像データを入力\n",
    "output = model(img_tensor)\n",
    "\n",
    "# 出力に「ソフトマックス関数」を適用\n",
    "pred_proba = F.softmax(output, dim=1) ##### 課題4 #####\n",
    "\n",
    "# 一番高い確率を持つクラス（数字）を取得\n",
    "pred_number = int(pred_proba.argmax(dim=1, keepdim=True)[0][0])\n",
    "\n",
    "# 結果を表示\n",
    "print(\"数字\\t確率\")\n",
    "for i in range(10):\n",
    "  print(\"{}\\t{}\".format(i, round(float(pred_proba[0][i]), 3)))\n",
    "\n",
    "print(\"\\n【推論結果】\")\n",
    "# 予測した結果を表示（どの数字に分類されたか）\n",
    "print(\"画像「{}」は「{}」です。\".format(img_path, pred_number))\n",
    "\n",
    "# 画像の表示\n",
    "plt.imshow(img, cmap='gray')\n",
    "plt.axis('off')\n",
    "plt.show()"
   ]
  }
 ],
 "metadata": {
  "colab": {
   "provenance": []
  },
  "kernelspec": {
   "display_name": "Python 3",
   "name": "python3"
  },
  "language_info": {
   "name": "python"
  }
 },
 "nbformat": 4,
 "nbformat_minor": 0
}
