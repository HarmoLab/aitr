{
 "cells": [
  {
   "cell_type": "markdown",
   "metadata": {},
   "source": [
    "# **データ拡張の確認**\n",
    "\n",
    "コードを実行してください。\n",
    "\n",
    "※上部にある「ドライブにコピー」で自分のドライブにコピーしてから編集・実行してください。"
   ]
  },
  {
   "cell_type": "code",
   "execution_count": null,
   "metadata": {},
   "outputs": [],
   "source": [
    "import os\n",
    "from PIL import Image\n",
    "import matplotlib.pyplot as plt\n",
    "from torchvision import transforms\n",
    "from torchvision.datasets.folder import default_loader\n",
    "\n",
    "# Google Driveをマウント\n",
    "from google.colab import drive\n",
    "drive.mount('/content/drive')"
   ]
  },
  {
   "cell_type": "code",
   "execution_count": null,
   "metadata": {},
   "outputs": [],
   "source": [
    "root_dir=\"/content/drive/MyDrive/jts2024_3/data/all/\" # 画像データが保存されているフォルダを指定\n",
    "\n",
    "filename = \"cat.1000.jpg\"                             # 画像データのファイル名を指定\n",
    "\n",
    "img_path = os.path.join(root_dir, filename)           # 画像データのフルパスを作成"
   ]
  },
  {
   "cell_type": "code",
   "execution_count": null,
   "metadata": {},
   "outputs": [],
   "source": [
    "# 画像データの読み込み\n",
    "try:\n",
    "    image = default_loader(img_path)\n",
    "except FileNotFoundError:\n",
    "    print(\"指定されたファイルが見つかりません。正しいファイルパスを指定してください。\")\n",
    "    exit()"
   ]
  },
  {
   "cell_type": "code",
   "execution_count": null,
   "metadata": {},
   "outputs": [],
   "source": [
    "# 各種変換の定義\n",
    "horizontal_flip = transforms.RandomHorizontalFlip(p=1.0)                       # 指定した確率で左右反転（100%）\n",
    "random_rotation = transforms.RandomRotation(degrees=30)                        # 指定した角度の範囲内でランダムに回転（-30度から+30度）\n",
    "random_crop = transforms.RandomResizedCrop(size=(224, 224), scale=(0.8, 1.0))  # 指定された範囲の中でランダムにクロップし，指定したサイズにリサイズ（元の画像から80%から100%の範囲でクロップ，224X224ピクセルにリサイズ）\n",
    "brightness_adjust = transforms.ColorJitter(brightness=0.5)                     # 指定された変化幅の中で明るさ調整（±50%）\n",
    "contrast_adjust = transforms.ColorJitter(contrast=0.5)                         # 指定された変化幅の中でコントラスト調整（±50%）\n",
    "saturation_adjust = transforms.ColorJitter(saturation=0.5)                     # 指定された変化幅の中で彩度調整（±50%）\n",
    "hue_adjust = transforms.ColorJitter(hue=0.2)                                   # 指定された変化幅の中で色相調整（±0.2）\n",
    "\n",
    "# 複数の変換を同時に適用する変換\n",
    "combined_transform = transforms.Compose([\n",
    "    transforms.RandomHorizontalFlip(p=1.0),\n",
    "    transforms.RandomRotation(degrees=30),\n",
    "    transforms.RandomResizedCrop(size=(224, 224), scale=(0.8, 1.0)),\n",
    "    transforms.ColorJitter(brightness=0.5, contrast=0.5, saturation=0.5, hue=0.2)\n",
    "])"
   ]
  },
  {
   "cell_type": "code",
   "execution_count": null,
   "metadata": {},
   "outputs": [],
   "source": [
    "# 画像の変換と表示を行う関数\n",
    "def show_transformed_images(image):\n",
    "    plt.figure(figsize=(10, 10))\n",
    "\n",
    "    # 元の画像\n",
    "    plt.subplot(3, 3, 1)\n",
    "    plt.imshow(image)\n",
    "    plt.title('Original')\n",
    "    plt.axis('off')\n",
    "\n",
    "    # 左右反転\n",
    "    flipped_image = horizontal_flip(image)\n",
    "    plt.subplot(3, 3, 2)\n",
    "    plt.imshow(flipped_image)\n",
    "    plt.title('Horizontal Flip')\n",
    "    plt.axis('off')\n",
    "\n",
    "    # ランダム回転\n",
    "    rotated_image = random_rotation(image)\n",
    "    plt.subplot(3, 3, 3)\n",
    "    plt.imshow(rotated_image)\n",
    "    plt.title('Random Rotation')\n",
    "    plt.axis('off')\n",
    "\n",
    "    # ランダムクロップ\n",
    "    cropped_image = random_crop(image)\n",
    "    plt.subplot(3, 3, 4)\n",
    "    plt.imshow(cropped_image)\n",
    "    plt.title('Random Crop')\n",
    "    plt.axis('off')\n",
    "\n",
    "    # 明るさ調整\n",
    "    bright_image = brightness_adjust(image)\n",
    "    plt.subplot(3, 3, 5)\n",
    "    plt.imshow(bright_image)\n",
    "    plt.title('Brightness Adjust')\n",
    "    plt.axis('off')\n",
    "\n",
    "    # コントラスト調整\n",
    "    contrast_image = contrast_adjust(image)\n",
    "    plt.subplot(3, 3, 6)\n",
    "    plt.imshow(contrast_image)\n",
    "    plt.title('Contrast Adjust')\n",
    "    plt.axis('off')\n",
    "\n",
    "    # 彩度調整\n",
    "    saturation_image = saturation_adjust(image)\n",
    "    plt.subplot(3, 3, 7)\n",
    "    plt.imshow(saturation_image)\n",
    "    plt.title('Saturation Adjust')\n",
    "    plt.axis('off')\n",
    "\n",
    "    # 色相調整\n",
    "    hue_image = hue_adjust(image)\n",
    "    plt.subplot(3, 3, 8)\n",
    "    plt.imshow(hue_image)\n",
    "    plt.title('Hue Adjust')\n",
    "    plt.axis('off')\n",
    "\n",
    "    # 全ての変換を組み合わせたもの\n",
    "    combined_image = combined_transform(image)\n",
    "    plt.subplot(3, 3, 9)\n",
    "    plt.imshow(combined_image)\n",
    "    plt.title('All Combined')\n",
    "    plt.axis('off')\n",
    "\n",
    "    plt.tight_layout()\n",
    "    plt.show()\n",
    "\n",
    "# 画像の変換を実行して表示\n",
    "show_transformed_images(image)"
   ]
  }
 ],
 "metadata": {
  "language_info": {
   "name": "python"
  }
 },
 "nbformat": 4,
 "nbformat_minor": 2
}
