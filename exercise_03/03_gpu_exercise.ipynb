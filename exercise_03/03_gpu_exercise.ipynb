{
 "cells": [
  {
   "cell_type": "markdown",
   "metadata": {},
   "source": [
    "# **第3回 GPUの使い方**\n",
    "\n",
    "コードを実行してください。\n",
    "\n",
    "※上部にある「ドライブにコピー」で自分のドライブにコピーしてから編集・実行してください。"
   ]
  },
  {
   "cell_type": "code",
   "execution_count": null,
   "metadata": {},
   "outputs": [],
   "source": [
    "import torch\n",
    "\n",
    "# GPUが使用可能かを確認し、使用するデバイスを設定\n",
    "device = torch.device('cuda' if torch.cuda.is_available() else 'cpu')\n",
    "\n",
    "# 使用するデバイスを表示\n",
    "print(\"使用するデバイス：\", device)"
   ]
  },
  {
   "cell_type": "code",
   "execution_count": null,
   "metadata": {},
   "outputs": [],
   "source": [
    "# CPU上にテンソルを2つ作成\n",
    "tensor_1 = torch.tensor([1.0, 2.0, 3.0])\n",
    "tensor_2 = torch.tensor([4.0, 5.0, 6.0])"
   ]
  },
  {
   "cell_type": "code",
   "execution_count": null,
   "metadata": {},
   "outputs": [],
   "source": [
    "# テンソルを設定したデバイスに転送\n",
    "tensor_1 = tensor_1.to(device)"
   ]
  },
  {
   "cell_type": "code",
   "execution_count": null,
   "metadata": {},
   "outputs": [],
   "source": [
    "# 2つのテンソルがあるデバイスを確認\n",
    "print(\"テンソル1のデバイス：\", tensor_1.device)\n",
    "print(\"テンソル2のデバイス：\", tensor_2.device)"
   ]
  },
  {
   "cell_type": "code",
   "execution_count": null,
   "metadata": {},
   "outputs": [],
   "source": [
    "# テンソル1とテンソル2の足し算を実行\n",
    "tensor_sum = tensor_1 + tensor_2\n",
    "\n",
    "# 結果の確認\n",
    "print(tensor_sum)"
   ]
  }
 ],
 "metadata": {
  "language_info": {
   "name": "python"
  }
 },
 "nbformat": 4,
 "nbformat_minor": 2
}
