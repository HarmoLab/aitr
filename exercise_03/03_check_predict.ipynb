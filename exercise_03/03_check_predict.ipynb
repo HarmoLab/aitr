{
 "cells": [
  {
   "cell_type": "markdown",
   "metadata": {},
   "source": [
    "# **第3回 学習結果の確認**\n",
    "\n",
    "コードを実行してください。\n",
    "\n",
    "※上部にある「ドライブにコピー」で自分のドライブにコピーしてから編集・実行してください。"
   ]
  },
  {
   "cell_type": "code",
   "execution_count": null,
   "metadata": {},
   "outputs": [],
   "source": [
    "import os\n",
    "import random\n",
    "import torch\n",
    "import numpy as np\n",
    "import pandas as pd\n",
    "import matplotlib.pyplot as plt\n",
    "import seaborn as sns\n",
    "from sklearn.metrics import confusion_matrix\n",
    "from torchvision import transforms\n",
    "from torchvision.datasets.folder import default_loader\n",
    "from torch.utils.data import Dataset\n",
    "import torch.nn.functional as F\n",
    "import torch.nn as nn\n",
    "import torchvision.models as models\n",
    "\n",
    "# Google Driveをマウント\n",
    "from google.colab import drive\n",
    "drive.mount('/content/drive')"
   ]
  },
  {
   "cell_type": "code",
   "execution_count": null,
   "metadata": {},
   "outputs": [],
   "source": [
    "# 各種設定\n",
    "BATCH_SIZE = 64  # バッチサイズ\n",
    "IMAGE_SIZE = 224 # 画像サイズ\n",
    "\n",
    "# シード値の固定\n",
    "np.random.seed(0)\n",
    "torch.manual_seed(0)"
   ]
  },
  {
   "cell_type": "code",
   "execution_count": null,
   "metadata": {},
   "outputs": [],
   "source": [
    "# 自作のデータセットの処理を定義\n",
    "class MyDataset(Dataset):\n",
    "\tdef __init__(self, csv_file, root_dir, transform=None, target_transform=None, loader=default_loader):\n",
    "\t\tself.df = pd.read_csv(csv_file)          # csvファイルを読み込んでデータフレームとして保存\n",
    "\t\tself.root_dir = root_dir                 # 画像ファイルが保存されたフォルダのパスを保存\n",
    "\t\tself.loader = loader                     # 画像を読み込むための関数\n",
    "\t\tself.transform = transform               # 画像に適用する前処理\n",
    "\t\tself.target_transform = target_transform # ラベルに適用する前処理\n",
    "\n",
    "\tdef __len__(self):\n",
    "\t\treturn len(self.df) # データセットのサイズを返す関数\n",
    "\n",
    "\t# データローダーでバッチを作成するときに使う関数\n",
    "\tdef __getitem__(self, idx):\n",
    "\t\tfile_name = self.df.iloc[idx, 0]                  # csvファイルのidx行目にあるfilenameを取得\n",
    "\t\timg_path = os.path.join(self.root_dir, file_name) # 画像のフルパスを作成（root_dir/filename）\n",
    "\t\timage = self.loader(img_path)                     # 画像を読み込む\n",
    "\t\tlabel = self.df.iloc[idx, 1]                      # csvファイルのidx行目にあるlabelを取得\n",
    "\n",
    "\t\t# データに前処理を適用\n",
    "\t\tif self.transform is not None:\n",
    "\t\t\t\timage = self.transform(image)\n",
    "\t\tif self.target_transform is not None:\n",
    "\t\t\t\tlabel = self.target_transform(label)\n",
    "\n",
    "\t\t# 画像，ラベル，画像ファイルのパスを返す\n",
    "\t\treturn image, label, img_path"
   ]
  },
  {
   "cell_type": "code",
   "execution_count": null,
   "metadata": {},
   "outputs": [],
   "source": [
    "# データの前処理の方法を定義\n",
    "transform = transforms.Compose([\n",
    "\ttransforms.Resize((IMAGE_SIZE, IMAGE_SIZE)), # 画像のサイズを統一\n",
    "\ttransforms.ToTensor(),                       # データをテンソルに変換\n",
    "\ttransforms.Normalize(mean=[0.5, 0.5, 0.5],\n",
    "\t\t\t\t\t\t std=[0.5, 0.5, 0.5])    # 画像のピクセル値の正規化\n",
    "])"
   ]
  },
  {
   "cell_type": "code",
   "execution_count": null,
   "metadata": {},
   "outputs": [],
   "source": [
    "# テストデータの取得\n",
    "test_dataset = MyDataset(\n",
    "\tcsv_file=\"/content/drive/MyDrive/jts2024_3/data/test.csv\", # csvファイルのパス\n",
    "\troot_dir=\"/content/drive/MyDrive/jts2024_3/data/all/\",     # 画像が保存されている\n",
    "\ttransform=transform # データに前処理を適用\n",
    ")"
   ]
  },
  {
   "cell_type": "code",
   "execution_count": null,
   "metadata": {},
   "outputs": [],
   "source": [
    "# テストデータ用のデータローダー\n",
    "test_loader = torch.utils.data.DataLoader(\n",
    "\ttest_dataset,\n",
    "\tbatch_size=BATCH_SIZE, # バッチサイズごとにデータを供給\n",
    "\tshuffle=False,         # テスト時もシャッフルしない\n",
    ")"
   ]
  },
  {
   "cell_type": "code",
   "execution_count": null,
   "metadata": {},
   "outputs": [],
   "source": [
    "# モデルを定義し、学習済みの重みを読み込む\n",
    "model = models.resnet18()\n",
    "model.fc = nn.Linear(512, 2)\n",
    "model.load_state_dict(torch.load('/content/drive/MyDrive/jts2024_3/model/resnet.pt'))\n",
    "model.eval()  # 評価モードに設定"
   ]
  },
  {
   "cell_type": "code",
   "execution_count": null,
   "metadata": {},
   "outputs": [],
   "source": [
    "# 予測結果とラベルを格納するリスト\n",
    "all_preds = []\n",
    "all_labels = []\n",
    "incorrect_preds = []  # 誤分類された画像を保存するリスト\n",
    "\n",
    "# テストデータで予測\n",
    "with torch.no_grad():\n",
    "    for images, labels, img_paths in test_loader:\n",
    "        outputs = model(images)\n",
    "        _, preds = torch.max(outputs, 1)  # 最も高い確率のクラスを予測\n",
    "\n",
    "        # バッチ内の各予測とラベルをリストに追加\n",
    "        all_preds.extend(preds.cpu().numpy())  # 複数の予測ラベルをリストに追加\n",
    "        all_labels.extend(labels.cpu().numpy())  # 実際のラベルも同様に追加\n",
    "\n",
    "        # バッチ内の誤分類された画像を保存\n",
    "        for i in range(len(preds)):\n",
    "            if preds[i] != labels[i]:\n",
    "                incorrect_preds.append((images[i], labels[i], preds[i], img_paths[i]))"
   ]
  },
  {
   "cell_type": "code",
   "execution_count": null,
   "metadata": {},
   "outputs": [],
   "source": [
    "# 混同行列の計算\n",
    "cm = confusion_matrix(all_labels, all_preds)\n",
    "\n",
    "# 混同行列の表示\n",
    "plt.figure(figsize=(8, 6))\n",
    "sns.heatmap(cm, annot=True, fmt='d', cmap='Blues', xticklabels=['cat', 'dog'], yticklabels=['cat', 'dog'])\n",
    "plt.xlabel('Predicted')\n",
    "plt.ylabel('True')\n",
    "plt.title('Confusion Matrix')\n",
    "plt.show()"
   ]
  },
  {
   "cell_type": "code",
   "execution_count": null,
   "metadata": {},
   "outputs": [],
   "source": [
    "# ラベルをcatとdogに対応させる関数\n",
    "def label_to_name(label):\n",
    "    return \"cat\" if label == 0 else \"dog\"\n",
    "\n",
    "# 誤分類された画像の中からランダムに9個を選択\n",
    "random_incorrect_preds = random.sample(incorrect_preds, 9)\n",
    "\n",
    "# 誤分類された画像を表示\n",
    "plt.figure(figsize=(10, 10))\n",
    "for i, (image, label, pred, img_path) in enumerate(random_incorrect_preds):  # ランダムに選んだ9個を表示\n",
    "    image = image.permute(1, 2, 0).cpu().numpy()  # 画像を表示可能な形に変換\n",
    "    image = (image * 0.5) + 0.5  # 正規化を元に戻す\n",
    "    plt.subplot(3, 3, i+1)\n",
    "    plt.imshow(image)\n",
    "    plt.title(f'True: {label_to_name(label.item())}, Pred: {label_to_name(pred.item())}')\n",
    "    plt.axis('off')\n",
    "plt.tight_layout()\n",
    "plt.show()"
   ]
  }
 ],
 "metadata": {
  "language_info": {
   "name": "python"
  }
 },
 "nbformat": 4,
 "nbformat_minor": 2
}
