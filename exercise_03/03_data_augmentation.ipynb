{
 "cells": [
  {
   "cell_type": "markdown",
   "metadata": {},
   "source": [
    "# **第3回 データ拡張**\n",
    "\n",
    "コードを実行してください。\n",
    "\n",
    "※上部にある「ドライブにコピー」で自分のドライブにコピーしてから編集・実行してください。"
   ]
  },
  {
   "cell_type": "code",
   "execution_count": null,
   "metadata": {},
   "outputs": [],
   "source": [
    "# 必要なライブラリのインポート\n",
    "import torch\n",
    "import torchvision.transforms as transforms\n",
    "from PIL import Image\n",
    "import matplotlib.pyplot as plt\n",
    "import numpy as np"
   ]
  },
  {
   "cell_type": "code",
   "execution_count": null,
   "metadata": {},
   "outputs": [],
   "source": [
    "# Googleドライブをマウント\n",
    "from google.colab import drive\n",
    "drive.mount('/content/drive')"
   ]
  },
  {
   "cell_type": "code",
   "execution_count": null,
   "metadata": {},
   "outputs": [],
   "source": [
    "# 画像のパスを設定\n",
    "image_path = '/content/drive/MyDrive/jts_ai_seminar_3/data/all/cat.38.jpg'\n",
    "\n",
    "# 画像を読み込み\n",
    "image = Image.open(image_path)"
   ]
  },
  {
   "cell_type": "code",
   "execution_count": null,
   "metadata": {},
   "outputs": [],
   "source": [
    "# 各データ拡張を個別に適用\n",
    "\n",
    "# オリジナル画像\n",
    "original_image = image\n",
    "\n",
    "# 水平反転\n",
    "horizontal_flip = transforms.RandomHorizontalFlip(p=1.0)(image)\n",
    "\n",
    "# 垂直反転\n",
    "vertical_flip = transforms.RandomVerticalFlip(p=1.0)(image)\n",
    "\n",
    "# 回転（50度）\n",
    "rotation = transforms.RandomRotation(degrees=50)(image)\n",
    "\n",
    "# 輝度調整\n",
    "brightness_adjustment = transforms.ColorJitter(brightness=0.7)(image)\n",
    "\n",
    "# コントラスト調整\n",
    "contrast_adjustment = transforms.ColorJitter(contrast=0.7)(image)\n",
    "\n",
    "# 彩度調整\n",
    "saturation_adjustment = transforms.ColorJitter(saturation=0.7)(image)\n",
    "\n",
    "# 色相調整\n",
    "hue_adjustment = transforms.ColorJitter(hue=0.3)(image)\n",
    "\n",
    "# ランダムクロップ（リサイズ後にクロップ）\n",
    "random_crop = transforms.RandomResizedCrop(size=(image.size[1], image.size[0]), scale=(0.5, 1.0))(image)\n",
    "\n",
    "# ガウシアンブラー\n",
    "gaussian_blur = transforms.GaussianBlur(kernel_size=5)(image)"
   ]
  },
  {
   "cell_type": "code",
   "execution_count": null,
   "metadata": {},
   "outputs": [],
   "source": [
    "# 各変換を適用した画像を一覧表示\n",
    "images = {\n",
    "    \"Original\": original_image,\n",
    "    \"Horizontal Flip\": horizontal_flip,\n",
    "    \"Vertical Flip\": vertical_flip,\n",
    "    \"Rotation\": rotation,\n",
    "    \"Brightness Adjustment\": brightness_adjustment,\n",
    "    \"Contrast Adjustment\": contrast_adjustment,\n",
    "    \"Saturation Adjustment\": saturation_adjustment,\n",
    "    \"Hue Adjustment\": hue_adjustment,\n",
    "    \"Random Crop\": random_crop,\n",
    "    \"Gaussian Blur\": gaussian_blur\n",
    "}"
   ]
  },
  {
   "cell_type": "code",
   "execution_count": null,
   "metadata": {},
   "outputs": [],
   "source": [
    "# 画像の表示\n",
    "plt.figure(figsize=(20, 9))\n",
    "for i, (name, img) in enumerate(images.items()):\n",
    "    plt.subplot(2, 5, i + 1)  # 3行4列のサブプロットを作成\n",
    "    plt.imshow(img)\n",
    "    plt.title(name)\n",
    "    plt.axis('off')\n",
    "\n",
    "# 全体を表示\n",
    "plt.tight_layout()\n",
    "plt.show()"
   ]
  }
 ],
 "metadata": {
  "language_info": {
   "name": "python"
  }
 },
 "nbformat": 4,
 "nbformat_minor": 2
}
