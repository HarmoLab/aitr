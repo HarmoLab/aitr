{
  "nbformat": 4,
  "nbformat_minor": 0,
  "metadata": {
    "colab": {
      "name": "colab_excercise.ipynb",
      "provenance": [],
      "collapsed_sections": [],
      "toc_visible": true
    },
    "kernelspec": {
      "name": "python3",
      "display_name": "Python 3"
    }
  },
  "cells": [
    {
      "cell_type": "markdown",
      "metadata": {
        "id": "dZO3K-UECT3w",
        "colab_type": "text"
      },
      "source": [
        "# テキストセル\n",
        "\n",
        "Markdownと呼ばれるフォーマットで書く。\n",
        "特に気にしなくても文章は表示される。\n",
        "\n",
        "# 見出し（大）\n",
        "## 見出し（中）\n",
        "### 見出し（小）\n",
        "\n",
        "- 箇条書き\n",
        "- 箇条書き\n",
        "  - 箇条書き\n",
        "\n",
        "> 引用\n",
        "\n",
        "[リンク(Google)](https://www.google.com/)"
      ]
    },
    {
      "cell_type": "markdown",
      "metadata": {
        "id": "ZELawU5UEeUJ",
        "colab_type": "text"
      },
      "source": [
        "## 見出し1"
      ]
    },
    {
      "cell_type": "markdown",
      "metadata": {
        "id": "xyItRa4GEly9",
        "colab_type": "text"
      },
      "source": [
        "### 見出し1-1"
      ]
    },
    {
      "cell_type": "markdown",
      "metadata": {
        "id": "Mj8tlr3hEoJH",
        "colab_type": "text"
      },
      "source": [
        "### 見出し1-2"
      ]
    },
    {
      "cell_type": "markdown",
      "metadata": {
        "id": "L6dsZmObEjCj",
        "colab_type": "text"
      },
      "source": [
        "## 見出し2"
      ]
    },
    {
      "cell_type": "markdown",
      "metadata": {
        "id": "frOPaTUQBwh0",
        "colab_type": "text"
      },
      "source": [
        "# 基本操作"
      ]
    },
    {
      "cell_type": "code",
      "metadata": {
        "id": "Tr-8oZORay4j",
        "colab_type": "code",
        "colab": {}
      },
      "source": [
        "# シェルコマンドも使用可能 ( ! をつける)\n",
        "print(\"ls コマンドはディレクトリ内にあるファイルを一覧表示するコマンド\")\n",
        "!ls\n",
        "print(\"pwd コマンドは現在のディレクトリを表示するコマンド\")\n",
        "!pwd\n",
        "print(\"cd コマンドはディレクトリを移動するコマンド\")\n",
        "!cd sample_data/\n",
        "!pwd # ※移動してない\n",
        "print(\"cd コマンドでは ! ではなく % をつける\")\n",
        "%cd sample_data/\n",
        "print(\"元のディレクトリに戻っておく\")\n",
        "%cd -"
      ],
      "execution_count": null,
      "outputs": []
    },
    {
      "cell_type": "code",
      "metadata": {
        "id": "8A_eGxj7Xt6I",
        "colab_type": "code",
        "colab": {}
      },
      "source": [
        "# pytorch や numpy などデータ分析やAIに使用するライブラリはだいたい使用可能\n",
        "import torch\n",
        "\n",
        "x = torch.zeros((3, 2))\n",
        "print(x)\n",
        "\n",
        "# 足りないライブラリは pip install する\n",
        "!pip install torch-optimizer\n",
        "import torch_optimizer\n",
        "# opt = torch_optimizer.RAdam()"
      ],
      "execution_count": null,
      "outputs": []
    },
    {
      "cell_type": "markdown",
      "metadata": {
        "id": "hLeWiVvsCDBl",
        "colab_type": "text"
      },
      "source": [
        "# Google Drive"
      ]
    },
    {
      "cell_type": "code",
      "metadata": {
        "id": "Y8va3oD3j7Gv",
        "colab_type": "code",
        "colab": {}
      },
      "source": [
        "# Google Drive のマウント（Google Drive のファイルを読み書きできるようにする）\n",
        "from google.colab import drive\n",
        "drive.mount('/content/drive')"
      ],
      "execution_count": null,
      "outputs": []
    },
    {
      "cell_type": "code",
      "metadata": {
        "id": "Y3jNWLy-ogcF",
        "colab_type": "code",
        "colab": {}
      },
      "source": [
        "# drive ディレクトリが現れる(マウント成功)\n",
        "!ls\n",
        "print()\n",
        "print(\"drive に移動\")\n",
        "%cd drive\n",
        "!ls\n",
        "print()\n",
        "print(\"My Drive に移動\")\n",
        "%cd My Drive\n",
        "!ls\n",
        "print()\n",
        "%cd ../../"
      ],
      "execution_count": null,
      "outputs": []
    }
  ]
}