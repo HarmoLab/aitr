{
  "nbformat": 4,
  "nbformat_minor": 0,
  "metadata": {
    "colab": {
      "name": "gpu_excercise.ipynb",
      "provenance": [],
      "collapsed_sections": []
    },
    "kernelspec": {
      "name": "python3",
      "display_name": "Python 3"
    },
    "accelerator": "GPU"
  },
  "cells": [
    {
      "cell_type": "code",
      "metadata": {
        "id": "8ISTVixL7UON",
        "colab_type": "code",
        "colab": {}
      },
      "source": [
        "# GPUの確認(シェルコマンド)\n",
        "!nvidia-smi"
      ],
      "execution_count": null,
      "outputs": []
    },
    {
      "cell_type": "code",
      "metadata": {
        "id": "eI8q04OjFenQ",
        "colab_type": "code",
        "colab": {}
      },
      "source": [
        "import torch\n",
        "# device取得 (GPUが使用できる環境であれば device=\"cuda\", 使用不可であれば device=\"cpu\")\n",
        "device = torch.device(\"cuda\" if torch.cuda.is_available() else \"cpu\")\n",
        "print('device = torch.device(\"cuda\" if torch.cuda.is_available() else \"cpu\")')\n",
        "print(device)\n",
        "print()\n",
        "\n",
        "# deviceで指定\n",
        "data = torch.zeros((2, 3), device=device)\n",
        "print(\"data = torch.zeros((2, 3), device=device)\")\n",
        "print(data.device) # cuda (gpu)\n",
        "print()\n",
        "\n",
        "# toメソッドで指定\n",
        "data = torch.zeros((2, 3))\n",
        "print(\"data = torch.zeros((2, 3))\")\n",
        "print(data.device) # cpu\n",
        "data = data.to(device=device)\n",
        "print(\"data = data.to(device=device)\")\n",
        "print(data.device) # cuda (gpu)"
      ],
      "execution_count": null,
      "outputs": []
    },
    {
      "cell_type": "code",
      "metadata": {
        "id": "2ujuk7bY5G75",
        "colab_type": "code",
        "colab": {}
      },
      "source": [
        "one_tensor_on_gpu = torch.ones((2, 3), device=\"cuda\")\n",
        "one_tensor_on_cpu = torch.ones((2, 3), device=\"cpu\")\n",
        "\n",
        "# GPUに渡したテンソル と CPU上のテンソル の間では計算は不可\n",
        "print(one_tensor_on_gpu + one_tensor_on_cpu)"
      ],
      "execution_count": null,
      "outputs": []
    },
    {
      "cell_type": "code",
      "metadata": {
        "id": "89P6P8N851KS",
        "colab_type": "code",
        "colab": {}
      },
      "source": [
        "one_tensor_on_gpu = torch.zeros((2, 3), device=\"cuda\")\n",
        "one_tensor_on_cpu = torch.ones((2, 3), device=\"cpu\")\n",
        "\n",
        "# 計算したい場合は、どちらかに合わせる\n",
        "print(one_tensor_on_gpu.to(\"cpu\") + one_tensor_on_cpu)\n",
        "print(one_tensor_on_gpu + one_tensor_on_cpu.to(\"cuda\"))"
      ],
      "execution_count": null,
      "outputs": []
    }
  ]
}